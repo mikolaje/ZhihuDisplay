{
 "cells": [
  {
   "cell_type": "code",
   "execution_count": 1,
   "metadata": {},
   "outputs": [],
   "source": [
    "import matplotlib.pyplot as plt\n",
    "import numpy as np\n",
    "import pandas as pd\n",
    "import seaborn as sns\n",
    "sns.set(style=\"whitegrid\")\n",
    "import warnings\n",
    "warnings.simplefilter(action='ignore', category=FutureWarning)\n",
    "\n",
    "%matplotlib inline\n",
    "\n",
    "pd.options.mode.chained_assignment = None\n",
    "\n"
   ]
  },
  {
   "cell_type": "code",
   "execution_count": 30,
   "metadata": {},
   "outputs": [],
   "source": [
    "df_original = pd.read_csv('data/question_lang.csv')\n",
    "df_original = df_original[['question_id', 'question_title', 'answer_count', 'java', 'python','js','php']]\n",
    "df = df_original.sort_values('answer_count', ascending=False)\n"
   ]
  },
  {
   "cell_type": "markdown",
   "metadata": {},
   "source": [
    "### 各编程语言问题数 比较"
   ]
  },
  {
   "cell_type": "code",
   "execution_count": 95,
   "metadata": {},
   "outputs": [
    {
     "data": {
      "image/png": "[encoded data removed]",
      "text/plain": [
       "<Figure size 720x576 with 1 Axes>"
      ]
     },
     "metadata": {
      "needs_background": "light"
     },
     "output_type": "display_data"
    }
   ],
   "source": [
    "#print(df)\n",
    "#print(df.loc[df.js>0])\n",
    "df_lang_count = df[['answer_count', 'java','python','js','php']]\n",
    "df_sum = df_lang_count.sum()\n",
    "df_sum = pd.DataFrame({'lang': df_sum.index, 'count': df_sum.values}).loc[1:]\n",
    "\n",
    "\n",
    "a4_dims = (10.0, 8)\n",
    "fig, ax = plt.subplots(figsize=a4_dims)\n",
    "ax = sns.barplot(x='lang', y='count', data=df_sum, palette=None)\n"
   ]
  },
  {
   "cell_type": "code",
   "execution_count": 93,
   "metadata": {},
   "outputs": [],
   "source": [
    "### 各编成语言的回答数 比较"
   ]
  },
  {
   "cell_type": "code",
   "execution_count": 94,
   "metadata": {},
   "outputs": [
    {
     "data": {
      "image/png": "[encoded data removed]",
      "text/plain": [
       "<Figure size 720x576 with 1 Axes>"
      ]
     },
     "metadata": {
      "needs_background": "light"
     },
     "output_type": "display_data"
    }
   ],
   "source": [
    "df_melt = df[['question_id', 'answer_count', 'java','python','js','php']]\n",
    "\n",
    "df_melt = pd.melt(df_melt, id_vars=['question_id','answer_count'], value_vars=['java','python','js','php'])\n",
    "df_melt = df_melt.loc[df_melt.value > 0]\n",
    "\n",
    "df_melt = df_melt[['question_id','answer_count','variable']]\n",
    "df_lang_ans = df_melt.groupby(['variable'])['answer_count'].sum()\n",
    "df_lang_ans = pd.DataFrame({'lang': df_lang_ans.index, 'count': df_lang_ans.values})\n",
    "df_lang_ans = df_lang_ans.sort_values(['count'], ascending=False)\n",
    "\n",
    "\n",
    "a4_dims = (10.0, 8)\n",
    "fig, ax = plt.subplots(figsize=a4_dims)\n",
    "ax = sns.barplot(x='lang', y='count', data=df_lang_ans, palette=None)"
   ]
  },
  {
   "cell_type": "code",
   "execution_count": 63,
   "metadata": {},
   "outputs": [
    {
     "name": "stdout",
     "output_type": "stream",
     "text": [
      "JAVA 语言回答数最多的问题： 如何看待一些大学生说 3 天学会了 Java？\n",
      "https://www.zhihu.com/question/66535555\n",
      "回答数:389\n"
     ]
    }
   ],
   "source": [
    "#print(df)\n",
    "def most_answers_lang(lang):\n",
    "    first = df.loc[df[lang] > 0].iloc[0]\n",
    "    question_title = first['question_title']\n",
    "    question_id = first['question_id']\n",
    "    answer_count = first['answer_count']\n",
    "    question_url = 'https://www.zhihu.com/question/%s' % question_id\n",
    "    print('%s 语言回答数最多的问题： %s\\n%s\\n回答数:%s' % (lang.upper(), question_title, question_url, answer_count))\n",
    "    \n",
    "most_answers_lang('java')\n",
    "    "
   ]
  },
  {
   "cell_type": "code",
   "execution_count": 64,
   "metadata": {},
   "outputs": [
    {
     "name": "stdout",
     "output_type": "stream",
     "text": [
      "PYTHON 语言回答数最多的问题： 学习 Python 很吃力，我是不是可以放弃编程了？\n",
      "https://www.zhihu.com/question/60766946\n",
      "回答数:637\n"
     ]
    }
   ],
   "source": [
    "most_answers_lang('python')"
   ]
  },
  {
   "cell_type": "code",
   "execution_count": 65,
   "metadata": {},
   "outputs": [
    {
     "name": "stdout",
     "output_type": "stream",
     "text": [
      "JS 语言回答数最多的问题： 如何看待哔哩哔哩的 flv.js 作者月薪不到 5000 元？\n",
      "https://www.zhihu.com/question/53686737\n",
      "回答数:425\n"
     ]
    }
   ],
   "source": [
    "most_answers_lang('js')"
   ]
  },
  {
   "cell_type": "code",
   "execution_count": 66,
   "metadata": {},
   "outputs": [
    {
     "name": "stdout",
     "output_type": "stream",
     "text": [
      "PHP 语言回答数最多的问题： 零基础应该选择学习 java、php、前端 还是 python？\n",
      "https://www.zhihu.com/question/40801731\n",
      "回答数:334\n"
     ]
    }
   ],
   "source": [
    "most_answers_lang('php')"
   ]
  },
  {
   "cell_type": "code",
   "execution_count": null,
   "metadata": {},
   "outputs": [],
   "source": []
  },
  {
   "cell_type": "code",
   "execution_count": null,
   "metadata": {},
   "outputs": [],
   "source": []
  },
  {
   "cell_type": "code",
   "execution_count": null,
   "metadata": {},
   "outputs": [],
   "source": []
  },
  {
   "cell_type": "code",
   "execution_count": null,
   "metadata": {},
   "outputs": [],
   "source": []
  },
  {
   "cell_type": "code",
   "execution_count": null,
   "metadata": {},
   "outputs": [],
   "source": []
  }
 ],
 "metadata": {
  "kernelspec": {
   "display_name": "Python 3",
   "language": "python",
   "name": "python3"
  },
  "language_info": {
   "codemirror_mode": {
    "name": "ipython",
    "version": 3
   },
   "file_extension": ".py",
   "mimetype": "text/x-python",
   "name": "python",
   "nbconvert_exporter": "python",
   "pygments_lexer": "ipython3",
   "version": "3.7.0"
  }
 },
 "nbformat": 4,
 "nbformat_minor": 2
}
