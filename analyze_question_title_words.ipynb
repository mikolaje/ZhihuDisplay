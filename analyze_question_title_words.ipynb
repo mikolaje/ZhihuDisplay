{
 "cells": [
  {
   "cell_type": "markdown",
   "metadata": {},
   "source": [
    "## 知乎问题统计\n",
    "用jieba 分词问题后统计下问题的内容"
   ]
  },
  {
   "cell_type": "code",
   "execution_count": 7,
   "metadata": {},
   "outputs": [],
   "source": [
    "import matplotlib.pyplot as plt\n",
    "plt.rcParams['font.sans-serif'] = ['SimHei']  # 解决中文显示问题-设置字体为黑体\n",
    "plt.rcParams['axes.unicode_minus'] = False  # 解决保存图像是负号'-'显示为方块的问题\n",
    "import numpy as np\n",
    "import pandas as pd\n",
    "import seaborn as sns\n",
    "#sns.set(style=\"whitegrid\")\n",
    "sns.set_style('whitegrid', {'font.sans-serif':['simhei']})\n",
    "\n",
    "import warnings\n",
    "warnings.simplefilter(action='ignore')\n",
    "\n",
    "%matplotlib inline\n",
    "\n",
    "pd.options.mode.chained_assignment = None\n"
   ]
  },
  {
   "cell_type": "code",
   "execution_count": 2,
   "metadata": {},
   "outputs": [
    {
     "name": "stdout",
     "output_type": "stream",
     "text": [
      "Index(['token', 'token_count'], dtype='object')\n",
      "        token  token_count\n",
      "221484      ？     13828148\n",
      "705919      的      8711569\n",
      "332050      ，      7531755\n",
      "609193             2417348\n",
      "1085648     是      2402857\n",
      "244485      吗      2085979\n",
      "35072       有      2048634\n",
      "626007     什么      1992906\n",
      "247454     如何      1845242\n",
      "735180      了      1558460\n",
      "854186      在      1442903\n",
      "1026693     我      1351919\n",
      "347527    为什么      1234458\n",
      "2451        ?      1230969\n",
      "742591      和      1156506\n",
      "915177     怎么      1107564\n",
      "349892      你       899820\n",
      "14656       不       877766\n",
      "127381      人       839405\n",
      "124488     一个       789638\n"
     ]
    }
   ],
   "source": [
    "df = pd.read_csv('data/zhihu_token_count.csv', header=None, names=['token', 'token_count'])\n",
    "df = df.sort_values(by=['token_count'], ascending=False)\n",
    "print(df.columns)\n",
    "print(df.head(20))"
   ]
  },
  {
   "cell_type": "code",
   "execution_count": 3,
   "metadata": {},
   "outputs": [
    {
     "name": "stdout",
     "output_type": "stream",
     "text": [
      "2313\n"
     ]
    }
   ],
   "source": [
    "stop_words_set = set()\n",
    "\n",
    "def add_stop_word(filename):\n",
    "    with open(filename, 'r') as f:\n",
    "        for w in f.readlines():\n",
    "            stop_words_set.add(w.strip())\n",
    "\n",
    "add_stop_word('data/stop_words.txt')\n",
    "add_stop_word('data/sichuanU_stop_words.txt')\n",
    "add_stop_word('data/baidu_stop_words.txt')\n",
    "add_stop_word('data/hagongU_stop_words.txt')\n",
    "       \n",
    "stop_words_set.add(' ')     \n",
    "print(len(stop_words_set))"
   ]
  },
  {
   "cell_type": "code",
   "execution_count": 4,
   "metadata": {},
   "outputs": [
    {
     "name": "stdout",
     "output_type": "stream",
     "text": [
      "       token_count  is_stop\n",
      "token                      \n",
      "想           626754    False\n",
      "做           517715    False\n",
      "中           420571    False\n",
      "看待          391976    False\n",
      "请问          378865    False\n",
      "说           371354    False\n",
      "喜欢          369189    False\n",
      "评价          355659    False\n",
      "有没有         326796    False\n",
      "推荐          282735    False\n",
      "工作          272744    False\n",
      "中国          272093    False\n",
      "专业          266973    False\n",
      "买           262665    False\n",
      "求           261022    False\n",
      "女生          260257    False\n",
      "大学          252238    False\n",
      "里           218708    False\n",
      "真的          212070    False\n",
      "年           206395    False\n",
      "体验          205703    False\n",
      "感觉          202819    False\n",
      "公司          201260    False\n",
      "手机          187488    False\n",
      "选择          184341    False\n",
      "男生          175976    False\n",
      "一种          171154    False\n",
      "男朋友         168387    False\n",
      "朋友          165904    False\n",
      "学习          163193    False\n",
      "没           162309    False\n",
      "时           156420    False\n",
      "吃           142251    False\n",
      "月           140270    False\n",
      "适合          140134    False\n",
      "找           139101    False\n",
      "岁           136686    False\n",
      "影响          136399    False\n",
      "大神          136382    False\n",
      "游戏          135979    False\n",
      "更           133779    False\n",
      "女朋友         130041    False\n",
      "学           127978    False\n",
      "学生          123198    False\n",
      "生活          119304    False\n",
      "情况          119194    False\n",
      "学校          118806    False\n",
      "电影          118615    False\n",
      "考研          115899    False\n",
      "这是          112033    False\n"
     ]
    }
   ],
   "source": [
    "def is_stop_word(word):\n",
    "    if word in stop_words_set:\n",
    "        return True\n",
    "    return False\n",
    "\n",
    "df['is_stop'] = df['token'].apply(is_stop_word)\n",
    "\n",
    "df_no_stop_word = df[df.is_stop == False]\n",
    "print(df_no_stop_word.head(50).set_index('token'))"
   ]
  },
  {
   "cell_type": "code",
   "execution_count": 8,
   "metadata": {
    "collapsed": true
   },
   "outputs": [
    {
     "data": {
      "image/png": "[encoded data removed]",
      "text/plain": [
       "<Figure size 432x288 with 1 Axes>"
      ]
     },
     "metadata": {
      "needs_background": "light"
     },
     "output_type": "display_data"
    }
   ],
   "source": [
    "\n"
   ]
  },
  {
   "cell_type": "code",
   "execution_count": 5,
   "metadata": {},
   "outputs": [
    {
     "name": "stdout",
     "output_type": "stream",
     "text": [
      "232\n"
     ]
    }
   ],
   "source": [
    "country_set = set()\n",
    "with open('data/countries.txt', 'r') as f:\n",
    "    for w in f.readlines():\n",
    "        country_set.add(w.strip())\n",
    "print(len(country_set))"
   ]
  },
  {
   "cell_type": "code",
   "execution_count": 6,
   "metadata": {},
   "outputs": [
    {
     "name": "stdout",
     "output_type": "stream",
     "text": [
      "   token  token_count\n",
      "0     中国       272093\n",
      "1     日本        98827\n",
      "2     美国        95784\n",
      "3     英国        33549\n",
      "4     韩国        29627\n",
      "5     德国        18536\n",
      "6    加拿大        15162\n",
      "7    俄罗斯        12872\n",
      "8     法国        12111\n",
      "9     泰国         9842\n",
      "10    印度         9739\n",
      "11   意大利         8688\n",
      "12   新加坡         6800\n",
      "13  澳大利亚         6055\n",
      "14   新西兰         5931\n",
      "15    朝鲜         5106\n",
      "16   西班牙         4349\n",
      "17    越南         3320\n",
      "18  马来西亚         3081\n",
      "19    荷兰         2585\n",
      "20    巴西         2559\n",
      "21   菲律宾         2312\n",
      "22    瑞士         2259\n",
      "23   土耳其         2226\n",
      "24   叙利亚         1945\n",
      "25    蒙古         1717\n",
      "26    瑞典         1605\n",
      "27   以色列         1551\n",
      "28    希腊         1443\n",
      "29   阿根廷         1390\n"
     ]
    }
   ],
   "source": [
    "def is_country(word):\n",
    "    if word in country_set:\n",
    "        return True\n",
    "    return False\n",
    "\n",
    "df_no_stop_word['is_country'] = df_no_stop_word['token'].apply(is_country)\n",
    "\n",
    "df_country = df_no_stop_word[df_no_stop_word['is_country'] == True].reset_index()[['token', 'token_count']]\n",
    "print(df_country.head(30))"
   ]
  },
  {
   "cell_type": "code",
   "execution_count": 9,
   "metadata": {},
   "outputs": [
    {
     "data": {
      "image/png": "[encoded data removed]",
      "text/plain": [
       "<Figure size 1080x576 with 1 Axes>"
      ]
     },
     "metadata": {
      "needs_background": "light"
     },
     "output_type": "display_data"
    }
   ],
   "source": [
    "a4_dims = (15.0, 8)\n",
    "fig, ax = plt.subplots(figsize=a4_dims)\n",
    "df_country_top = df_country.head(20)\n",
    "ax = sns.barplot(x='token', y='token_count', data=df_country_top, palette=None)"
   ]
  },
  {
   "cell_type": "code",
   "execution_count": null,
   "metadata": {},
   "outputs": [],
   "source": []
  },
  {
   "cell_type": "code",
   "execution_count": null,
   "metadata": {},
   "outputs": [],
   "source": []
  },
  {
   "cell_type": "code",
   "execution_count": null,
   "metadata": {},
   "outputs": [],
   "source": []
  }
 ],
 "metadata": {
  "kernelspec": {
   "display_name": "Python 3",
   "language": "python",
   "name": "python3"
  },
  "language_info": {
   "codemirror_mode": {
    "name": "ipython",
    "version": 3
   },
   "file_extension": ".py",
   "mimetype": "text/x-python",
   "name": "python",
   "nbconvert_exporter": "python",
   "pygments_lexer": "ipython3",
   "version": "3.7.3"
  }
 },
 "nbformat": 4,
 "nbformat_minor": 2
}
